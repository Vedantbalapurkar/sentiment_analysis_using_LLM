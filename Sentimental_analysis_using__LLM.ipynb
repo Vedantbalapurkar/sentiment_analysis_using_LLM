{
  "nbformat": 4,
  "nbformat_minor": 0,
  "metadata": {
    "colab": {
      "provenance": []
    },
    "kernelspec": {
      "name": "python3",
      "display_name": "Python 3"
    },
    "language_info": {
      "name": "python"
    }
  },
  "cells": [
    {
      "cell_type": "code",
      "execution_count": null,
      "metadata": {
        "colab": {
          "base_uri": "https://localhost:8080/"
        },
        "id": "SA0K_BiYKXac",
        "outputId": "a80fd3d2-4598-499d-b9fd-0e1a8de6f111"
      },
      "outputs": [
        {
          "output_type": "stream",
          "name": "stdout",
          "text": [
            "Requirement already satisfied: transformers in /usr/local/lib/python3.10/dist-packages (4.38.2)\n",
            "Requirement already satisfied: filelock in /usr/local/lib/python3.10/dist-packages (from transformers) (3.13.3)\n",
            "Requirement already satisfied: huggingface-hub<1.0,>=0.19.3 in /usr/local/lib/python3.10/dist-packages (from transformers) (0.20.3)\n",
            "Requirement already satisfied: numpy>=1.17 in /usr/local/lib/python3.10/dist-packages (from transformers) (1.25.2)\n",
            "Requirement already satisfied: packaging>=20.0 in /usr/local/lib/python3.10/dist-packages (from transformers) (24.0)\n",
            "Requirement already satisfied: pyyaml>=5.1 in /usr/local/lib/python3.10/dist-packages (from transformers) (6.0.1)\n",
            "Requirement already satisfied: regex!=2019.12.17 in /usr/local/lib/python3.10/dist-packages (from transformers) (2023.12.25)\n",
            "Requirement already satisfied: requests in /usr/local/lib/python3.10/dist-packages (from transformers) (2.31.0)\n",
            "Requirement already satisfied: tokenizers<0.19,>=0.14 in /usr/local/lib/python3.10/dist-packages (from transformers) (0.15.2)\n",
            "Requirement already satisfied: safetensors>=0.4.1 in /usr/local/lib/python3.10/dist-packages (from transformers) (0.4.2)\n",
            "Requirement already satisfied: tqdm>=4.27 in /usr/local/lib/python3.10/dist-packages (from transformers) (4.66.2)\n",
            "Requirement already satisfied: fsspec>=2023.5.0 in /usr/local/lib/python3.10/dist-packages (from huggingface-hub<1.0,>=0.19.3->transformers) (2023.6.0)\n",
            "Requirement already satisfied: typing-extensions>=3.7.4.3 in /usr/local/lib/python3.10/dist-packages (from huggingface-hub<1.0,>=0.19.3->transformers) (4.10.0)\n",
            "Requirement already satisfied: charset-normalizer<4,>=2 in /usr/local/lib/python3.10/dist-packages (from requests->transformers) (3.3.2)\n",
            "Requirement already satisfied: idna<4,>=2.5 in /usr/local/lib/python3.10/dist-packages (from requests->transformers) (3.6)\n",
            "Requirement already satisfied: urllib3<3,>=1.21.1 in /usr/local/lib/python3.10/dist-packages (from requests->transformers) (2.0.7)\n",
            "Requirement already satisfied: certifi>=2017.4.17 in /usr/local/lib/python3.10/dist-packages (from requests->transformers) (2024.2.2)\n"
          ]
        }
      ],
      "source": [
        "!pip install transformers"
      ]
    },
    {
      "cell_type": "code",
      "source": [
        "from transformers import pipeline"
      ],
      "metadata": {
        "id": "NiEgZZIWK19O"
      },
      "execution_count": null,
      "outputs": []
    },
    {
      "cell_type": "code",
      "source": [
        "summarizer1 = pipeline(\"summarization\", model=\"Falconsai/text_summarization\")"
      ],
      "metadata": {
        "id": "taC7gAJhLClt"
      },
      "execution_count": null,
      "outputs": []
    },
    {
      "cell_type": "code",
      "source": [
        "sentiment_model_path = \"cardiffnlp/twitter-xlm-roberta-base-sentiment\"\n",
        "sentiment_model = pipeline(\"sentiment-analysis\", model=sentiment_model_path,\n",
        "                          tokenizer=sentiment_model_path)"
      ],
      "metadata": {
        "id": "y_wLD2XVLHBF"
      },
      "execution_count": null,
      "outputs": []
    },
    {
      "cell_type": "code",
      "source": [
        "from transformers import AutoTokenizer, AutoModelForSequenceClassification, pipeline\n",
        "\n",
        "model_name = \"yangheng/deberta-v3-large-absa-v1.1\"\n",
        "tokenizer = AutoTokenizer.from_pretrained(model_name)\n",
        "model = AutoModelForSequenceClassification.from_pretrained(model_name)\n",
        "\n",
        "classifier = pipeline(\"text-classification\", model=model, tokenizer=tokenizer)"
      ],
      "metadata": {
        "id": "mIKtYJR1LLHk"
      },
      "execution_count": null,
      "outputs": []
    },
    {
      "cell_type": "code",
      "source": [
        "from transformers import pipeline\n",
        "\n",
        "# create pipeline for sentiment analysis\n",
        "classification = pipeline('sentiment-analysis')"
      ],
      "metadata": {
        "colab": {
          "base_uri": "https://localhost:8080/"
        },
        "id": "QIySu_B5N4wG",
        "outputId": "e09ad437-083e-4919-a8ac-36c48405e9b6"
      },
      "execution_count": null,
      "outputs": [
        {
          "output_type": "stream",
          "name": "stderr",
          "text": [
            "No model was supplied, defaulted to distilbert/distilbert-base-uncased-finetuned-sst-2-english and revision af0f99b (https://huggingface.co/distilbert/distilbert-base-uncased-finetuned-sst-2-english).\n",
            "Using a pipeline without specifying a model name and revision in production is not recommended.\n"
          ]
        }
      ]
    },
    {
      "cell_type": "code",
      "source": [
        "sentiment_model_path = \"cardiffnlp/twitter-xlm-roberta-base-sentiment\"\n",
        "sentiment_model = pipeline(\"sentiment-analysis\", model=sentiment_model_path,\n",
        "                          tokenizer=sentiment_model_path)"
      ],
      "metadata": {
        "id": "uLO0KYYOO4W9"
      },
      "execution_count": null,
      "outputs": []
    },
    {
      "cell_type": "code",
      "source": [
        "# from transformers import AutoTokenizer, AutoModelForSequenceClassification, pipeline\n",
        "\n",
        "# model_name = \"yangheng/deberta-v3-large-absa-v1.1\"\n",
        "# tokenizer = AutoTokenizer.from_pretrained(model_name)\n",
        "# model = AutoModelForSequenceClassification.from_pretrained(model_name)\n",
        "\n",
        "# classifier = pipeline(\"text-classification\", model=model, tokenizer=tokenizer)"
      ],
      "metadata": {
        "id": "hwkjMYOGhPOV"
      },
      "execution_count": null,
      "outputs": []
    },
    {
      "cell_type": "code",
      "source": [
        "summarizer1 = pipeline(\"summarization\", model=\"Falconsai/text_summarization\")"
      ],
      "metadata": {
        "id": "vQQNmJYRkLaQ"
      },
      "execution_count": null,
      "outputs": []
    },
    {
      "cell_type": "code",
      "source": [
        "topic = pipeline(\"text2text-generation\", model=\"czearing/article-title-generator\")"
      ],
      "metadata": {
        "id": "XDsKpwpwlQeH"
      },
      "execution_count": null,
      "outputs": []
    },
    {
      "cell_type": "code",
      "source": [
        "import nltk\n",
        "\n",
        "nltk.download('punkt')\n",
        "nltk.download('stopwords')\n",
        "nltk.download('vader_lexicon')"
      ],
      "metadata": {
        "colab": {
          "base_uri": "https://localhost:8080/"
        },
        "id": "WHSkQO8IhmO_",
        "outputId": "a4238b5e-6975-4322-c4ff-a203057e223b"
      },
      "execution_count": null,
      "outputs": [
        {
          "output_type": "stream",
          "name": "stderr",
          "text": [
            "[nltk_data] Downloading package punkt to /root/nltk_data...\n",
            "[nltk_data]   Package punkt is already up-to-date!\n",
            "[nltk_data] Downloading package stopwords to /root/nltk_data...\n",
            "[nltk_data]   Package stopwords is already up-to-date!\n",
            "[nltk_data] Downloading package vader_lexicon to /root/nltk_data...\n",
            "[nltk_data]   Package vader_lexicon is already up-to-date!\n"
          ]
        },
        {
          "output_type": "execute_result",
          "data": {
            "text/plain": [
              "True"
            ]
          },
          "metadata": {},
          "execution_count": 13
        }
      ]
    },
    {
      "cell_type": "code",
      "source": [
        "# import pandas as pd\n",
        "# import spacy\n",
        "# from nltk.sentiment import SentimentIntensityAnalyzer\n",
        "# from transformers import pipeline, AutoTokenizer, AutoModelForSequenceClassification\n",
        "# import re\n",
        "# import nltk\n",
        "\n",
        "# # Load Spacy English model\n",
        "# nlp = spacy.load(\"en_core_web_sm\")\n",
        "\n",
        "# # Initialize VADER sentiment analyzer\n",
        "# sid = SentimentIntensityAnalyzer()\n",
        "\n",
        "\n",
        "\n",
        "# def clean_text(text):\n",
        "#     \"\"\"\n",
        "#     Clean the text by removing unnecessary characters and converting to lowercase.\n",
        "#     \"\"\"\n",
        "#     # Convert text to lowercase\n",
        "#     text = text.lower()\n",
        "#     # Replace common contractions\n",
        "#     text = re.sub(r\"what's\", \"what is \", text)\n",
        "#     text = text.replace('(ap)', '')\n",
        "#     text = re.sub(r\"\\'s\", \" is \", text)\n",
        "#     text = re.sub(r\"\\'ve\", \" have \", text)\n",
        "#     text = re.sub(r\"can't\", \"cannot \", text)\n",
        "#     text = re.sub(r\"n't\", \" not \", text)\n",
        "#     text = re.sub(r\"i'm\", \"i am \", text)\n",
        "#     text = re.sub(r\"\\'re\", \" are \", text)\n",
        "#     text = re.sub(r\"\\'d\", \" would \", text)\n",
        "#     text = re.sub(r\"\\'ll\", \" will \", text)\n",
        "#     # Remove non-alphanumeric characters except for '?', '!', and ' '\n",
        "#     text = re.sub(r'[^a-zA-Z?! ]+', '', text)\n",
        "#     # Remove non-ASCII characters\n",
        "#     text = re.sub(r'[^\\x00-\\x7F]+', '', text)\n",
        "#     # Remove extra spaces and newlines\n",
        "#     text = re.sub('\\s+', ' ', text)\n",
        "#     return text\n",
        "\n",
        "# def summarizer_fn(article):\n",
        "#     \"\"\"\n",
        "#     Summarize the article.\n",
        "#     \"\"\"\n",
        "#     text = clean_text(article)\n",
        "#     summary = summarizer1(text, max_length=138, min_length=40, do_sample=False)\n",
        "#     # summary_text = summary[0]['summary_text']\n",
        "#     # return summary_text\n",
        "\n",
        "#     return summary[0]['summary_text']\n",
        "\n",
        "# def mood_rating(article):\n",
        "\n",
        "\n",
        "#     sentiment = sentiment_model(article)\n",
        "#     # print(sentiment)\n",
        "#     # return (f\"Overall sentiment: {sentiment['label']} with score {sentiment['score']}\")\n",
        "\n",
        "#         # Extract sentiment label and score\n",
        "#     sentiment_label = sentiment[0]['label']\n",
        "#     sentiment_score = sentiment[0]['score']\n",
        "\n",
        "#     return f\"Overall sentiment: {sentiment_label} with score {sentiment_score}\"\n",
        "\n",
        "\n",
        "\n",
        "\n",
        "# def polarity_mood(article):\n",
        "#     \"\"\"\n",
        "#     Determine the mood of the article using VADER.\n",
        "#     \"\"\"\n",
        "#     score = sid.polarity_scores(article)['compound']\n",
        "#     return \"Positive\" if score >= 0.05 else \"Negative\" if score <= -0.05 else \"Neutral\"\n",
        "\n",
        "\n",
        "\n",
        "\n",
        "# def  topic_name(article):\n",
        "#     generated_title = topic(article)\n",
        "#     return (\"Generated Title:\", generated_title[0]['generated_text'])\n",
        "\n",
        "\n",
        "# def main(article):\n",
        "#     \"\"\"\n",
        "#     Perform analysis on the article.\n",
        "#     \"\"\"\n",
        "#     # Clean the article text\n",
        "#     cleaned_article = clean_text(article)\n",
        "#     print(\"Cleaned Article:\", cleaned_article)\n",
        "\n",
        "#     # Summarize the article\n",
        "#     summary = summarizer_fn(cleaned_article)\n",
        "#     print(\"Summary:\", summary)\n",
        "\n",
        "#     # Determine the mood of the article\n",
        "#     mood = mood_rating(cleaned_article)\n",
        "#     print(\"Mood Rating (article):\", mood)\n",
        "\n",
        "\n",
        "\n",
        "#     mood1 = mood_rating(summary)\n",
        "#     print(\"Mood Rating (summary):\", mood1)\n",
        "\n",
        "#     mood_polarity = polarity_mood(cleaned_article)\n",
        "#     print(\"Mood Rating using polarity (article):\", mood_polarity)\n",
        "\n",
        "\n",
        "#     mood_polarity1 = polarity_mood(summary)\n",
        "#     print(\"Mood Rating using polarity (summary):\", mood_polarity1)\n",
        "\n",
        "\n",
        "#     topic = topic_name(cleaned_article)\n",
        "#     print(\"Topic Name (article):\", topic)\n",
        "\n",
        "#     topic1 = topic_name(summary)\n",
        "#     print(\"Topic Name (summary):\", topic1)\n",
        "\n",
        "\n",
        "# # User input\n",
        "# user_article = input(\"Enter the article: \")\n",
        "\n",
        "# # Run the main function\n",
        "# main(user_article)\n"
      ],
      "metadata": {
        "colab": {
          "base_uri": "https://localhost:8080/"
        },
        "id": "cAwYvJi2LOuo",
        "outputId": "c0ea8ca0-9e63-4b6c-e9f3-0eff3d9ec110"
      },
      "execution_count": null,
      "outputs": [
        {
          "output_type": "stream",
          "name": "stderr",
          "text": [
            "/usr/local/lib/python3.10/dist-packages/transformers/convert_slow_tokenizer.py:550: UserWarning: The sentencepiece tokenizer that you are converting to a fast tokenizer uses the byte fallback option which is not implemented in the fast tokenizers. In practice this means that the fast version of the tokenizer can produce unknown tokens whereas the sentencepiece version would have converted these unknown tokens into a sequence of byte tokens matching the original piece of text.\n",
            "  warnings.warn(\n"
          ]
        },
        {
          "output_type": "stream",
          "name": "stdout",
          "text": [
            "Enter the article: Nike (NYSE:NKE) is the leader when it comes to consumer sportswear apparel and footwear. The firm's long history of producing highly innovative, attractive and market-leading products across multiple product categories has made the firm a household name in sporting goods.  While less than stellar earnings through 2022 and early 2023 have soured investor sentiment towards the firm, fundamental profitability and pricing power remains unharmed.  The current potentially 29% undervaluation in shares as derived by The Value Corner's Intrinsic Value Calculation suggests that a great value opportunity may exist in the stock of this market leading firm.  I rate Nike a Strong Buy and believe it could be a great long-term value play.  Nike is an American athletic apparel and footwear company headquartered in Beaverton, Oregon. The firm has grown rapidly over the past 60 years to become the world's largest supplier of athletic shoes and apparel while also having developed an extensive sports equipment business too.  The firm operates their footwear, apparel and sports equipment businesses across a variety of athletic markets and has become a household name within the space.  Their iconic \"just do it\" trademark tagline and swoosh logo have also become a status symbol and are positively viewed in popular culture especially across a younger demographic of buyers.  Although the firm has struggled to match their historic fiscal performance levels over the past three years, Nike is slowly but surely finding its stride again. A move towards a more direct-to-consumer (DTC) oriented distribution approach has proven costly for the firm but should yield benefits in the long term.  John Donahoe is the CEO of the company since late 2019 and has overseen some troubled times at the firm. Nonetheless, I believe Donahoe has the ability and vision required to guide Nike back to record levels of profitability as the firm's DTC pivot begins to bear its fruits.  Despite the incredibly competitive and continuously changing nature of the athletic apparel and footwear markets, I believe Nike has carved out a wide and strong economic moat. The firm has built this moat upon their brand power, technological advantages and diverse set of revenue streams that target multiple different market segments.  Nike not only sells but designs, manufactures and distributes their own apparel, footwear and sports equipment. This allows Nike to rapidly and efficiently create unique, differentiated designs that help the firm stand out from the competition within the market.  Through a history of producing market leading shoes and apparel combined with very effective marketing including the iconic \"Just Do It\" slogan, Nike has managed to develop their brand into an attractive and higher-end choice for consumers.  The more prestigious status associated with the Nike brand allows the firm to enjoy significant pricing power with many of their products priced at higher levels than those of its competitors. Such an ability to command a higher price for their goods creates a positive feedback loop where customers do not evaluate Nike products based on their price, but rather on the perceived quality, technology and image their goods possess.  I believe that the image Nike has constructed around their brand combined with the massive scale upon which they operate increases the attractiveness of their products in the eyes of consumers in a tangible manner. This hypothesis is supported by the higher pricing associated with their products.  Nike also operates the Jordan brand of casual footwear and apparel which has allowed (along with some Nike branded footwear products) the company to target the ultra-high-end segment of the footwear segment. Many of their most iconic Jordan and Nike sneakers retail for upwards of $800 which provides significant margins and further brand reputation for the firm.  The firm also operates the wholly owned Converse brand of sneakers and tennis shoes. I believe this segment while iconic and rich with history provides little economic moat for the firm as their products are essentially interchangeable with competing brands such as Vans made by VF.  I also believe that the extensive brand partnerships Nike has forged with many of the world's most popular athletes and teams increases the brands pricing power to a material extent. Sponsorship deals with the likes of LeBron James, Serena Williams, Tiger Woods and Christiano Ronaldo increase the appeal of their products in the eyes of millions of amateur athletes across the world.  Team-level sponsorship deals also allow the firm to increase their presence within essentially all major sporting areas which further cements their products in the eyes of consumers as a 'professionally approved choice'. These sponsorship deals once again increase the pricing power Nike enjoys within the market.  Nike also derives significant economic moat from their ability and knowledge to innovate effectively within the mostly mature footwear and apparel space. Throughout the decades Nike has created some of the most cutting-edge shoes and sportswear to date with industry changing breakthroughs happening approximately each five years.  This rapid rate of innovation has allowed Nike to outpace its competitors and ensure that it's shoes in particular remain the most technologically advanced offering on the market. Once again, such a tangible competitive advantage both from a business and product perspective allows the firm to differentiate from its competition and charge premium prices for its shoes.  Finally, Nike is no longer just a sportswear company as the firm has rapidly begun expanding their presence within the digital services space. The firm's \"Nike Membership\" allows consumers to purchase a subscription to Nike designed and operated digital services including a host of apps such as Nike Run Club, Training Club and SNKRS.  Nike Membership also offers customers exclusive deals, free shipping and access to special events and launches which further drives the appeal of the brand as a luxury and more exclusive choice.  These digital business segments should help drive the economic moat of the firm moving forwards as it allows customers to become even more devoted and loyal to the brand through integrating Nike apps into their lifestyles. The Run and Training Club apps in particular have become incredibly popular thanks to the innovative features and large userbase present on the app.  Fundamentally, I believe Nike has managed to carveout a wide and robust economic moat in an industry where most competitors enjoy either a narrow or no moat at all. Their unique products combined with massive marketing power have allowed the firm to differentiate from the competition and charge premium prices for their products.  It is this pricing power that allows Nike to earn consistently outsized returns on their invested capital and I believe the firm will continue to dominate the sportswear market for at least the next 15 years to come.  While I usually allocate a 20-25-year competitive advantage stemming from a wide economic moat, I believe a 15-year timeframe is more suitable for Nike. This is due to the highly competitive nature of the sportswear market and the continuously changing tastes and preferences held by consumers within the space.  From an operating performance perspective, Nike is an absolute profitability powerhouse.  The firm's 5Y average gross, operating and net margins of 44.53%, 12.58% and 10.23% are incredibly robust especially given the highly competitive nature of the sportswear market environment. I believe these core profitability metrics illustrate and support the hypothesis that Nike enjoys a tangible pricing power advantage over its competitors.  Nike's 5Y average ROA, ROE and ROIC are 14.22%, 39.21% and 22.26% respectively which highlight just how efficient the firm is with regards to their business operations.  Over the last 10 years Nike's margins have essentially remained unchanged while overall sales and revenue have grown massively. This illustrates that the firm has remained fiscally responsible throughout their rapid growth cycle and continue to enjoy a dominant position within the market as a whole.  When examining Nike's FY23 and recent start to FY24, it is clear that the firm is still firing on all cylinders despite some challenging macroeconomic conditions and the initially turbulent transition towards a more heavily DTC focused distribution network.  FY23 saw Nike grow their total revenues by 10% YoY to over $51.22B with the growth in revenues on a constant currency basis being 16%. This strong growth in revenues was achieved thanks to strong pricing power and volume increases across their North American, European, EMEA, APLA and Greater China regions.  Strong footwear sales lead the charge across the geographic market segments with higher full-price ASP and growth in the Nike Direct business also contributing to these successes.  Nike's North American segment remains their largest with a 44% contribution towards total revenues. However, the greater China region presents Nike with the largest growth opportunity thanks to the rapidly expanding middle class present within the nation demanding more luxury and high-end goods such as the majority of Nike products.  Nike has also strategically begun expanding the marketing presence of their products in China due to the huge investment the CCP has devoted towards the development of a world-class soccer and basketball league. I believe Nike's already massive presence within these segments will allow the firm to exploit the rapid expansion of these two sports in China and therefore expect the Great China market segment to harbor significant growth prospects for Nike.  The firm's pivot towards a DTC model is also beginning to bear fruits for the firm as a whopping 44% of sales were attributed to the distribution segment in FY23.  Nike's Jordan brand also showed significant growth in FY23 boasting 29% organic revenue growth in FY23. Considering that Michael Jordan retired from professional basketball in 2003, the massive and enduring popularity of the brand even today illustrates that Nike are experts at maintaining brand reputation and thus extracting huge revenues from their product lines.  From a sales and revenue perspective, Nike has truly hit a homerun in 2023 and suggests that firm continues to be the dominant brand across essentially ever market segment in which they operate.  However, FY23 saw the firm's gross margins contract by 250 basis points from 46% in FY22 to just 43.5%. This drop was attributed to increasing production, wholesale and input costs along with a lower margin for their Nike Direct business.  While macroeconomic conditions are largely to blame for the slight increase in COGS witnessed by Nike in FY23, the drop in margins for their Nike Direct business was due to increased promotional activity being required to liquidate inventories in FY23.  While this increase in marketing and a potential increase in in-store sales to liquidate inventories suggests some weakness in Nike's ability to sell their products, I largely believe this is still due to the inflationary environment finally beginning to decrease real disposable income for consumers.  Given that Nike products occupy a more premium position within the market, a recessionary period could see sales decline more significantly than a more budget-oriented competitor. Still, I believe Nike's branding power will make their products attractive to consumers and believe the firm will still earn outsized returns on their invested capital despite a slight slowdown in consumer spending.  Net incomes for FY23 fell almost 17% YoY from $6.05B in FY22 to just $5.07B. This weakness was largely due to COGS increasing substantially along with marketing expenses and a slight increase in income tax expenses.  Q1 of FY24 saw Nike's YoY revenue growth slow to just 2% while their COGS increased by an equal 2%. The total cost of selling and administrative expenses also increased by 0.9% as a percentage of revenue in the first quarter as Nike saw pressure from rising pricing levels and marketing requirements to sell their products.  Net income for the first quarter fell just 1% YoY which represents a significant improvement from the full year 2023 results. These positive income statistics were accompanied by a massive 10% reduction in inventories from $9.6B in Q1 FY23 to just $8.7B in Q1 FY24.  These operating improvements suggest that Nike has finally managed to raise the ASP of their products through both wholesale and Nike Direct channels sufficiently to account for the rising pricing levels encountered within their supply network.  Seeking Alpha's Quant calculates an \"A+\" profitability rating for Nike which I believe to be an accurate representation of the profitability powerhouse that is the sportswear giant.  Nike's balance sheets are in outstanding shape thanks to their intelligent capital allocation strategies and significant levels of fiscal restraint.  The firm has $24.3B in total current assets while total current liabilities amount to just $8.46B. This outstanding short-term liquidity leaves the firm with an excellent current ratio of 2.72 and a healthy quick ratio of 1.60.  Total assets for the firm amount to $36.8B with total liabilities just $22.8B. This leaves the firm with an excellent debt/equity ratio of 0.87.  Fundamentally, I believe Nike exhibits one of the healthiest balance sheets of any major corporation currently in business. Their fiscal restraint and smart utilization of debt has allowed the company to grow significantly without excessive interest or fiscal burden.  As of May 31, 2023, Nike has $8.93B in long-term debt. All of the firm's debentures are on fixed interest rates which protects the firm against the rising rate environment currently found in the United States and across the globe as a whole.  Furthermore, Nike's long-term debt profile is well staggered with a majority of debentures maturing post-2026. I believe that even the maturities of around $2B due by 2026 will be easily financed by Nike's massive cashflows (approximately $3.9B unlevered FCF in FY23) thus negating the requirement for Nike to take-on any further debt.  Moody's credit ratings agency affirmed an excellent A1 credit rating for Nike's unsecured domestic notes and affirmed a Prime-1 rating for their domestic commercial paper. The outlook remains stable. Moody's classifies \"A1\" credit ratings as being of the \"highest grade, representing minimum credit risk\" and classifies \"Prime-1\" short-term debt ratings as being of the \"highest quality\".  Considering Nike as a whole it is clear that the firm remains an incredibly profitable enterprise even despite the difficult macro environment and softening consumer demand. Their pricing power is clearly allowing the firm to command excellent margins on their products despite the difficult market environment and should allow the firm to remain significantly profitable even through a recessionary environment.  Nike's excellent capital allocation is evident in their balance sheet and outstandingly staggered debt profile. Moody's affirms their credit risk (or lack thereof in Nike's case).  Seeking Alpha's Quant assigns Nike with an \"F\" Valuation grade. I believe this is an inaccurate representation of the value present within Nike stock and perfectly illustrates how very accurate quant ratings can sometimes poorly represent the real value of a company.  The firm currently trades at a P/E GAAP FWD ratio of 26.05x. Nike's P/CF FWD of just 22.54x is reasonable and actually represents a historically lower ratio. Their FWD EV/EBITDA of just 20.19x is acceptable in my opinion especially when considering the firm's EV/Sales FWD of just 2.84.  Considering only these basic valuation metrics alone I believe Nike should already start to appear slightly undervalued given the strong and continued growth prospects present at the firm. While these metrics are elevated versus a sector median (which is how the quant derives its letter grade for Nike), I believe that Nike is a truly outstanding firm within the market.  From an absolute perspective, Nike shares are trading at a significant discount relative to previous valuations. Seeking Alpha's charts illustrate that Nike has produced just 27% returns over the past five years due to the massive sell-off in shares starting in late 2021 dropping valuations by almost 40%.  Significant negative market sentiment following Nike's convoluted and mixed set of fiscal results from late 2021 until 2023 soured investor sentiments and has led to what I believe to be an excessive selloff in shares.  While the relative valuation provided by simple metrics and ratios along with the absolute comparison begin to paint the value picture present in Nike shares, a quantitative approach to valuing the stock is essential.  By utilizing The Value Corner's specially formulated Intrinsic Valuation Calculation, we can better understand what value exists in the company from a more objective perspective.  Using Nike's current share price of $96.88, an estimated 2025 EPS of $4.32, a realistic \"r\" value of 0.14 (14%) and the current Moody's Seasoned AAA Corporate Bond Yield ratio of 5.13x, I derive a base-case IV of $136.00. This represents a substantial 29% undervaluation in the firm.  When using a more pessimistic CAGR value for r of 0.11 (11%) to reflect a scenario where Nike struggles to increase net incomes due to a recessionary environment impacting sales negatively, shares are still valued at around 113.00 representing a 15% undervaluation.  Considering the valuation metrics, absolute valuation and intrinsic value calculation, I believe Nike is firmly trading in value territory.  In the short term (3-12 months), I find it difficult to say exactly what may happen to valuations. While market sentiment has improved over the last quarter for the firm, weaker than anticipated Q2 results could lead to another selloff in shares.  Tax harvesting may also lead to an increased selloff in shares as many investors seek to maximize the tax efficiency of their portfolios as the year winds to a close.  In the long-term (2-10 years), I see Nike strengthening their position as the dominant player in the footwear and sportswear industry.  While a gain in market share would only really be possible either through acquisitions of competitors or through the development of a huge technological breakthrough, I believe Nike is well positioned to benefit from overall market growth in China, EMEA and North America.  Nike faces significant risks stemming primarily from the competitive and cyclical consumer discretionary market in which they operate along with substantial exposure to unfavorable FX rates and some material ESG concerns.  While Nike has carved-out a tangible economic moat in the consumer sportswear and footwear marketplace, the firm remains susceptible to the threat of falling profitability through increased competition and cyclical market lows.  The entrance of a new and trendy brand or company could harm Nike's image and lead to brand stagnation requiring increased marketing costs from the sportswear giant to remain competitive. This could harm really gross and operating margins significantly.  The potential for the U.S. and global economies as a whole to enter a recessionary period in late 2023 and early 2024 also places Nike at risk of falling consumer demand necessitating increased marketing and a drop in ASP to clear inventories. This would once again decrease the firm's margins and ROIC in a tangible manner.  Nike's over 56% exposure to international markets as a percentage of total revenues also places the firm in a position to be negatively impacted by the strengthening dollar. While revenue and sales growth continued to be strong in FY23, weaker international currencies in comparison to the U.S. dollar has harmed the firm's overall profitability slightly.  From an ESG perspective, Nike remains engaged in significant labor treatment disputes and continues to be marred by accusations of poor working conditions being present within their manufacturing network.  The firm has also recently faced accusations of harboring a culture of sexism and bullying along with a retaliatory approach taken by management towards mistakes and voicing opinions.  While these controversies have not impacted revenues or sales nor the reputation of their products on a whole, the potential for this to occur to me seems plausible given a long enough timeframe.  Therefore, while the firm has claimed multiple commitments to ensuring equitable working conditions for its staff across the globe along with a desire to reduce GHG emission in the long-term, Nike must execute these ESG promises to ensure damage is not done to their invaluable brand image.  I find it difficult to decide whether or not Nike would be suitable for an ESG conscious investor. However, despite the firm's real social troubles, I believe the lack of substantial environmental or governance concerns could make it an acceptable if not stellar pick for the more ESG conscious investor.  Of course, opinions may vary and I implore you to conduct your own ESG and sustainability research before investing in Nike if these matters are of concern to you.  Nike is the dominant player in the sportswear and footwear markets. Their massive catalogue of products spans essentially every major sports category and tactical sponsorship deals along with great marketing material has made their products aspirational in nature for many consumers.  This has earned the firm a wide economic moat which should help the company earn outsized ROIC for the foreseeable future. While the company does face some real risks to profitability, I believe that in the long-term the firm will remain at the helm of the consumer sportswear segment.  Furthermore, the current potentially 29% discount in shares means that Nike stock can finally be acquired at what is a great valuation.  Therefore, I rate Nike a Strong Buy from a deep-value perspective and believe the stock could be a real 'multi-bagger' given the current discount and potential for significant long-term future growth in new market environments.  If you'd like to read about other deep-value play's I believe will yield outsized long-term investor returns check out my recent articles on Disney or Dollar General for more!  Editor's Note: This article was submitted as part of Seeking Alpha's Best Value Idea investment competition, which runs through October 25. With cash prizes, this competition -- open to all contributors -- is one you don't want to miss. If you are interested in becoming a contributor and taking part in the competition, click here to find out more and submit your article today!\n",
            "Cleaned Article: nike nysenke is the leader when it comes to consumer sportswear apparel and footwear the firm is long history of producing highly innovative attractive and marketleading products across multiple product categories has made the firm a household name in sporting goods while less than stellar earnings through and early have soured investor sentiment towards the firm fundamental profitability and pricing power remains unharmed the current potentially undervaluation in shares as derived by the value corner is intrinsic value calculation suggests that a great value opportunity may exist in the stock of this market leading firm i rate nike a strong buy and believe it could be a great longterm value play nike is an american athletic apparel and footwear company headquartered in beaverton oregon the firm has grown rapidly over the past years to become the world is largest supplier of athletic shoes and apparel while also having developed an extensive sports equipment business too the firm operates their footwear apparel and sports equipment businesses across a variety of athletic markets and has become a household name within the space their iconic just do it trademark tagline and swoosh logo have also become a status symbol and are positively viewed in popular culture especially across a younger demographic of buyers although the firm has struggled to match their historic fiscal performance levels over the past three years nike is slowly but surely finding its stride again a move towards a more directtoconsumer dtc oriented distribution approach has proven costly for the firm but should yield benefits in the long term john donahoe is the ceo of the company since late and has overseen some troubled times at the firm nonetheless i believe donahoe has the ability and vision required to guide nike back to record levels of profitability as the firm is dtc pivot begins to bear its fruits despite the incredibly competitive and continuously changing nature of the athletic apparel and footwear markets i believe nike has carved out a wide and strong economic moat the firm has built this moat upon their brand power technological advantages and diverse set of revenue streams that target multiple different market segments nike not only sells but designs manufactures and distributes their own apparel footwear and sports equipment this allows nike to rapidly and efficiently create unique differentiated designs that help the firm stand out from the competition within the market through a history of producing market leading shoes and apparel combined with very effective marketing including the iconic just do it slogan nike has managed to develop their brand into an attractive and higherend choice for consumers the more prestigious status associated with the nike brand allows the firm to enjoy significant pricing power with many of their products priced at higher levels than those of its competitors such an ability to command a higher price for their goods creates a positive feedback loop where customers do not evaluate nike products based on their price but rather on the perceived quality technology and image their goods possess i believe that the image nike has constructed around their brand combined with the massive scale upon which they operate increases the attractiveness of their products in the eyes of consumers in a tangible manner this hypothesis is supported by the higher pricing associated with their products nike also operates the jordan brand of casual footwear and apparel which has allowed along with some nike branded footwear products the company to target the ultrahighend segment of the footwear segment many of their most iconic jordan and nike sneakers retail for upwards of which provides significant margins and further brand reputation for the firm the firm also operates the wholly owned converse brand of sneakers and tennis shoes i believe this segment while iconic and rich with history provides little economic moat for the firm as their products are essentially interchangeable with competing brands such as vans made by vf i also believe that the extensive brand partnerships nike has forged with many of the world is most popular athletes and teams increases the brands pricing power to a material extent sponsorship deals with the likes of lebron james serena williams tiger woods and christiano ronaldo increase the appeal of their products in the eyes of millions of amateur athletes across the world teamlevel sponsorship deals also allow the firm to increase their presence within essentially all major sporting areas which further cements their products in the eyes of consumers as a professionally approved choice these sponsorship deals once again increase the pricing power nike enjoys within the market nike also derives significant economic moat from their ability and knowledge to innovate effectively within the mostly mature footwear and apparel space throughout the decades nike has created some of the most cuttingedge shoes and sportswear to date with industry changing breakthroughs happening approximately each five years this rapid rate of innovation has allowed nike to outpace its competitors and ensure that it is shoes in particular remain the most technologically advanced offering on the market once again such a tangible competitive advantage both from a business and product perspective allows the firm to differentiate from its competition and charge premium prices for its shoes finally nike is no longer just a sportswear company as the firm has rapidly begun expanding their presence within the digital services space the firm is nike membership allows consumers to purchase a subscription to nike designed and operated digital services including a host of apps such as nike run club training club and snkrs nike membership also offers customers exclusive deals free shipping and access to special events and launches which further drives the appeal of the brand as a luxury and more exclusive choice these digital business segments should help drive the economic moat of the firm moving forwards as it allows customers to become even more devoted and loyal to the brand through integrating nike apps into their lifestyles the run and training club apps in particular have become incredibly popular thanks to the innovative features and large userbase present on the app fundamentally i believe nike has managed to carveout a wide and robust economic moat in an industry where most competitors enjoy either a narrow or no moat at all their unique products combined with massive marketing power have allowed the firm to differentiate from the competition and charge premium prices for their products it is this pricing power that allows nike to earn consistently outsized returns on their invested capital and i believe the firm will continue to dominate the sportswear market for at least the next years to come while i usually allocate a year competitive advantage stemming from a wide economic moat i believe a year timeframe is more suitable for nike this is due to the highly competitive nature of the sportswear market and the continuously changing tastes and preferences held by consumers within the space from an operating performance perspective nike is an absolute profitability powerhouse the firm is y average gross operating and net margins of and are incredibly robust especially given the highly competitive nature of the sportswear market environment i believe these core profitability metrics illustrate and support the hypothesis that nike enjoys a tangible pricing power advantage over its competitors nike is y average roa roe and roic are and respectively which highlight just how efficient the firm is with regards to their business operations over the last years nike is margins have essentially remained unchanged while overall sales and revenue have grown massively this illustrates that the firm has remained fiscally responsible throughout their rapid growth cycle and continue to enjoy a dominant position within the market as a whole when examining nike is fy and recent start to fy it is clear that the firm is still firing on all cylinders despite some challenging macroeconomic conditions and the initially turbulent transition towards a more heavily dtc focused distribution network fy saw nike grow their total revenues by yoy to over b with the growth in revenues on a constant currency basis being this strong growth in revenues was achieved thanks to strong pricing power and volume increases across their north american european emea apla and greater china regions strong footwear sales lead the charge across the geographic market segments with higher fullprice asp and growth in the nike direct business also contributing to these successes nike is north american segment remains their largest with a contribution towards total revenues however the greater china region presents nike with the largest growth opportunity thanks to the rapidly expanding middle class present within the nation demanding more luxury and highend goods such as the majority of nike products nike has also strategically begun expanding the marketing presence of their products in china due to the huge investment the ccp has devoted towards the development of a worldclass soccer and basketball league i believe nike is already massive presence within these segments will allow the firm to exploit the rapid expansion of these two sports in china and therefore expect the great china market segment to harbor significant growth prospects for nike the firm is pivot towards a dtc model is also beginning to bear fruits for the firm as a whopping of sales were attributed to the distribution segment in fy nike is jordan brand also showed significant growth in fy boasting organic revenue growth in fy considering that michael jordan retired from professional basketball in the massive and enduring popularity of the brand even today illustrates that nike are experts at maintaining brand reputation and thus extracting huge revenues from their product lines from a sales and revenue perspective nike has truly hit a homerun in and suggests that firm continues to be the dominant brand across essentially ever market segment in which they operate however fy saw the firm is gross margins contract by basis points from in fy to just this drop was attributed to increasing production wholesale and input costs along with a lower margin for their nike direct business while macroeconomic conditions are largely to blame for the slight increase in cogs witnessed by nike in fy the drop in margins for their nike direct business was due to increased promotional activity being required to liquidate inventories in fy while this increase in marketing and a potential increase in instore sales to liquidate inventories suggests some weakness in nike is ability to sell their products i largely believe this is still due to the inflationary environment finally beginning to decrease real disposable income for consumers given that nike products occupy a more premium position within the market a recessionary period could see sales decline more significantly than a more budgetoriented competitor still i believe nike is branding power will make their products attractive to consumers and believe the firm will still earn outsized returns on their invested capital despite a slight slowdown in consumer spending net incomes for fy fell almost yoy from b in fy to just b this weakness was largely due to cogs increasing substantially along with marketing expenses and a slight increase in income tax expenses q of fy saw nike is yoy revenue growth slow to just while their cogs increased by an equal the total cost of selling and administrative expenses also increased by as a percentage of revenue in the first quarter as nike saw pressure from rising pricing levels and marketing requirements to sell their products net income for the first quarter fell just yoy which represents a significant improvement from the full year results these positive income statistics were accompanied by a massive reduction in inventories from b in q fy to just b in q fy these operating improvements suggest that nike has finally managed to raise the asp of their products through both wholesale and nike direct channels sufficiently to account for the rising pricing levels encountered within their supply network seeking alpha is quant calculates an a profitability rating for nike which i believe to be an accurate representation of the profitability powerhouse that is the sportswear giant nike is balance sheets are in outstanding shape thanks to their intelligent capital allocation strategies and significant levels of fiscal restraint the firm has b in total current assets while total current liabilities amount to just b this outstanding shortterm liquidity leaves the firm with an excellent current ratio of and a healthy quick ratio of total assets for the firm amount to b with total liabilities just b this leaves the firm with an excellent debtequity ratio of fundamentally i believe nike exhibits one of the healthiest balance sheets of any major corporation currently in business their fiscal restraint and smart utilization of debt has allowed the company to grow significantly without excessive interest or fiscal burden as of may nike has b in longterm debt all of the firm is debentures are on fixed interest rates which protects the firm against the rising rate environment currently found in the united states and across the globe as a whole furthermore nike is longterm debt profile is well staggered with a majority of debentures maturing post i believe that even the maturities of around b due by will be easily financed by nike is massive cashflows approximately b unlevered fcf in fy thus negating the requirement for nike to takeon any further debt moody is credit ratings agency affirmed an excellent a credit rating for nike is unsecured domestic notes and affirmed a prime rating for their domestic commercial paper the outlook remains stable moody is classifies a credit ratings as being of the highest grade representing minimum credit risk and classifies prime shortterm debt ratings as being of the highest quality considering nike as a whole it is clear that the firm remains an incredibly profitable enterprise even despite the difficult macro environment and softening consumer demand their pricing power is clearly allowing the firm to command excellent margins on their products despite the difficult market environment and should allow the firm to remain significantly profitable even through a recessionary environment nike is excellent capital allocation is evident in their balance sheet and outstandingly staggered debt profile moody is affirms their credit risk or lack thereof in nike is case seeking alpha is quant assigns nike with an f valuation grade i believe this is an inaccurate representation of the value present within nike stock and perfectly illustrates how very accurate quant ratings can sometimes poorly represent the real value of a company the firm currently trades at a pe gaap fwd ratio of x nike is pcf fwd of just x is reasonable and actually represents a historically lower ratio their fwd evebitda of just x is acceptable in my opinion especially when considering the firm is evsales fwd of just considering only these basic valuation metrics alone i believe nike should already start to appear slightly undervalued given the strong and continued growth prospects present at the firm while these metrics are elevated versus a sector median which is how the quant derives its letter grade for nike i believe that nike is a truly outstanding firm within the market from an absolute perspective nike shares are trading at a significant discount relative to previous valuations seeking alpha is charts illustrate that nike has produced just returns over the past five years due to the massive selloff in shares starting in late dropping valuations by almost significant negative market sentiment following nike is convoluted and mixed set of fiscal results from late until soured investor sentiments and has led to what i believe to be an excessive selloff in shares while the relative valuation provided by simple metrics and ratios along with the absolute comparison begin to paint the value picture present in nike shares a quantitative approach to valuing the stock is essential by utilizing the value corner is specially formulated intrinsic valuation calculation we can better understand what value exists in the company from a more objective perspective using nike is current share price of an estimated eps of a realistic r value of and the current moody is seasoned aaa corporate bond yield ratio of x i derive a basecase iv of this represents a substantial undervaluation in the firm when using a more pessimistic cagr value for r of to reflect a scenario where nike struggles to increase net incomes due to a recessionary environment impacting sales negatively shares are still valued at around representing a undervaluation considering the valuation metrics absolute valuation and intrinsic value calculation i believe nike is firmly trading in value territory in the short term months i find it difficult to say exactly what may happen to valuations while market sentiment has improved over the last quarter for the firm weaker than anticipated q results could lead to another selloff in shares tax harvesting may also lead to an increased selloff in shares as many investors seek to maximize the tax efficiency of their portfolios as the year winds to a close in the longterm years i see nike strengthening their position as the dominant player in the footwear and sportswear industry while a gain in market share would only really be possible either through acquisitions of competitors or through the development of a huge technological breakthrough i believe nike is well positioned to benefit from overall market growth in china emea and north america nike faces significant risks stemming primarily from the competitive and cyclical consumer discretionary market in which they operate along with substantial exposure to unfavorable fx rates and some material esg concerns while nike has carvedout a tangible economic moat in the consumer sportswear and footwear marketplace the firm remains susceptible to the threat of falling profitability through increased competition and cyclical market lows the entrance of a new and trendy brand or company could harm nike is image and lead to brand stagnation requiring increased marketing costs from the sportswear giant to remain competitive this could harm really gross and operating margins significantly the potential for the us and global economies as a whole to enter a recessionary period in late and early also places nike at risk of falling consumer demand necessitating increased marketing and a drop in asp to clear inventories this would once again decrease the firm is margins and roic in a tangible manner nike is over exposure to international markets as a percentage of total revenues also places the firm in a position to be negatively impacted by the strengthening dollar while revenue and sales growth continued to be strong in fy weaker international currencies in comparison to the us dollar has harmed the firm is overall profitability slightly from an esg perspective nike remains engaged in significant labor treatment disputes and continues to be marred by accusations of poor working conditions being present within their manufacturing network the firm has also recently faced accusations of harboring a culture of sexism and bullying along with a retaliatory approach taken by management towards mistakes and voicing opinions while these controversies have not impacted revenues or sales nor the reputation of their products on a whole the potential for this to occur to me seems plausible given a long enough timeframe therefore while the firm has claimed multiple commitments to ensuring equitable working conditions for its staff across the globe along with a desire to reduce ghg emission in the longterm nike must execute these esg promises to ensure damage is not done to their invaluable brand image i find it difficult to decide whether or not nike would be suitable for an esg conscious investor however despite the firm is real social troubles i believe the lack of substantial environmental or governance concerns could make it an acceptable if not stellar pick for the more esg conscious investor of course opinions may vary and i implore you to conduct your own esg and sustainability research before investing in nike if these matters are of concern to you nike is the dominant player in the sportswear and footwear markets their massive catalogue of products spans essentially every major sports category and tactical sponsorship deals along with great marketing material has made their products aspirational in nature for many consumers this has earned the firm a wide economic moat which should help the company earn outsized roic for the foreseeable future while the company does face some real risks to profitability i believe that in the longterm the firm will remain at the helm of the consumer sportswear segment furthermore the current potentially discount in shares means that nike stock can finally be acquired at what is a great valuation therefore i rate nike a strong buy from a deepvalue perspective and believe the stock could be a real multibagger given the current discount and potential for significant longterm future growth in new market environments if you would like to read about other deepvalue play is i believe will yield outsized longterm investor returns check out my recent articles on disney or dollar general for more! editor is note this article was submitted as part of seeking alpha is best value idea investment competition which runs through october with cash prizes this competition open to all contributors is one you do not want to miss if you are interested in becoming a contributor and taking part in the competition click here to find out more and submit your article today!\n",
            "Summary: nike is an american athletic apparel and footwear company headquartered in beaverton oregon the firm has grown rapidly over the past five years . i believe the firm is a truly outstanding firm within the market despite the incredibly competitive nature of the sportswear and footwear market .\n"
          ]
        },
        {
          "output_type": "stream",
          "name": "stderr",
          "text": [
            "Your max_length is set to 138, but your input_length is only 62. Since this is a summarization task, where outputs shorter than the input are typically wanted, you might consider decreasing max_length manually, e.g. summarizer('...', max_length=31)\n"
          ]
        },
        {
          "output_type": "stream",
          "name": "stdout",
          "text": [
            "Mood Rating (article): Overall sentiment: positive with score 0.6161159873008728\n"
          ]
        },
        {
          "output_type": "stream",
          "name": "stderr",
          "text": [
            "Token indices sequence length is longer than the specified maximum sequence length for this model (4454 > 512). Running this sequence through the model will result in indexing errors\n"
          ]
        },
        {
          "output_type": "stream",
          "name": "stdout",
          "text": [
            "Mood Rating (summary): Overall sentiment: positive with score 0.7040402293205261\n",
            "Mood Rating using polarity (article): Positive\n",
            "Mood Rating using polarity (summary): Positive\n"
          ]
        },
        {
          "output_type": "stream",
          "name": "stderr",
          "text": [
            "/usr/local/lib/python3.10/dist-packages/transformers/generation/utils.py:1178: UserWarning: Using the model-agnostic default `max_length` (=20) to control the generation length. We recommend setting `max_new_tokens` to control the maximum length of the generation.\n",
            "  warnings.warn(\n"
          ]
        },
        {
          "output_type": "stream",
          "name": "stdout",
          "text": [
            "Topic Name (article): ('Generated Title:', 'nike is a strong buy and i believe it is a great longterm')\n",
            "Topic Name (summary): ('Generated Title:', 'Nike is an american athletic apparel and footwear company headquartered in beaverton oregon')\n"
          ]
        }
      ]
    },
    {
      "cell_type": "code",
      "source": [],
      "metadata": {
        "id": "5wndITj5LfvP"
      },
      "execution_count": null,
      "outputs": []
    },
    {
      "cell_type": "code",
      "source": [],
      "metadata": {
        "id": "DBDpPxYXsoDX"
      },
      "execution_count": null,
      "outputs": []
    },
    {
      "cell_type": "code",
      "source": [
        "import pandas as pd\n",
        "import spacy\n",
        "from nltk.sentiment import SentimentIntensityAnalyzer\n",
        "from transformers import pipeline, AutoTokenizer, AutoModelForSequenceClassification\n",
        "import re\n",
        "import nltk\n",
        "\n",
        "# Load Spacy English model\n",
        "nlp = spacy.load(\"en_core_web_sm\")\n",
        "\n",
        "# Initialize VADER sentiment analyzer\n",
        "sid = SentimentIntensityAnalyzer()\n",
        "\n",
        "\n",
        "\n",
        "def clean_text(text):\n",
        "    \"\"\"\n",
        "    Clean the text by removing unnecessary characters and converting to lowercase.\n",
        "    \"\"\"\n",
        "    try:\n",
        "        # Convert text to lowercase\n",
        "        text = text.lower()\n",
        "        # Replace common contractions\n",
        "        text = re.sub(r\"what's\", \"what is \", text)\n",
        "        text = text.replace('(ap)', '')\n",
        "        text = re.sub(r\"\\'s\", \" is \", text)\n",
        "        text = re.sub(r\"\\'ve\", \" have \", text)\n",
        "        text = re.sub(r\"can't\", \"cannot \", text)\n",
        "        text = re.sub(r\"n't\", \" not \", text)\n",
        "        text = re.sub(r\"i'm\", \"i am \", text)\n",
        "        text = re.sub(r\"\\'re\", \" are \", text)\n",
        "        text = re.sub(r\"\\'d\", \" would \", text)\n",
        "        text = re.sub(r\"\\'ll\", \" will \", text)\n",
        "        # Remove non-alphanumeric characters except for '?', '!', and ' '\n",
        "        text = re.sub(r'[^a-zA-Z?! ]+', '', text)\n",
        "        # Remove non-ASCII characters\n",
        "        text = re.sub(r'[^\\x00-\\x7F]+', '', text)\n",
        "        # Remove extra spaces and newlines\n",
        "        text = re.sub('\\s+', ' ', text)\n",
        "        return text\n",
        "    except Exception as e:\n",
        "        print(\"Error cleaning text:\", e)\n",
        "        return \"\"\n",
        "\n",
        "def summarizer_fn(article):\n",
        "    \"\"\"\n",
        "    Summarize the article.\n",
        "    \"\"\"\n",
        "    try:\n",
        "        text = clean_text(article)\n",
        "        summary = summarizer1(text, max_length=138, min_length=40, do_sample=False)\n",
        "        return summary[0]['summary_text']\n",
        "    except Exception as e:\n",
        "        print(\"Error summarizing article:\", e)\n",
        "        return \"\"\n",
        "\n",
        "def mood_rating(article):\n",
        "    \"\"\"\n",
        "    Determine the mood of the article.\n",
        "    \"\"\"\n",
        "    try:\n",
        "        sentiment = sentiment_model(summarizer_fn(article))\n",
        "        sentiment_label = sentiment[0]['label']\n",
        "        sentiment_score = sentiment[0]['score']\n",
        "        return f\"Overall sentiment: {sentiment_label} with score {sentiment_score}\"\n",
        "    except Exception as e:\n",
        "        print(\"Error determining mood:\", e)\n",
        "        return \"\"\n",
        "\n",
        "def polarity_mood(article):\n",
        "    \"\"\"\n",
        "    Determine the mood of the article using VADER.\n",
        "    \"\"\"\n",
        "    try:\n",
        "        score = sid.polarity_scores(article)['compound']\n",
        "        return \"Positive\" if score >= 0.05 else \"Negative\" if score <= -0.05 else \"Neutral\"\n",
        "    except Exception as e:\n",
        "        print(\"Error determining polarity mood:\", e)\n",
        "        return \"\"\n",
        "\n",
        "def topic_name(article):\n",
        "    \"\"\"\n",
        "    Generate a topic name for the article.\n",
        "    \"\"\"\n",
        "    try:\n",
        "        generated_title = topic(article)\n",
        "        return (\"Generated Title:\", generated_title[0]['generated_text'])\n",
        "    except Exception as e:\n",
        "        print(\"Error generating topic name:\", e)\n",
        "        return \"\"\n",
        "\n",
        "def main(article):\n",
        "    \"\"\"\n",
        "    Perform analysis on the article.\n",
        "    \"\"\"\n",
        "    try:\n",
        "        # Clean the article text\n",
        "        cleaned_article = clean_text(article)\n",
        "        print(\"Cleaned Article:\", cleaned_article)\n",
        "\n",
        "        # Summarize the article\n",
        "        summary = summarizer_fn(cleaned_article)\n",
        "        print(\"Summary:\", summary)\n",
        "\n",
        "        # Determine the mood of the article\n",
        "        mood = mood_rating(cleaned_article)\n",
        "        print(\"Mood Rating (article):\", mood)\n",
        "\n",
        "        # Determine the mood of the summarized article\n",
        "        mood1 = mood_rating(summary)\n",
        "        print(\"Mood Rating (summary):\", mood1)\n",
        "\n",
        "        # Determine the polarity mood of the article\n",
        "        mood_polarity = polarity_mood(cleaned_article)\n",
        "        print(\"Mood Rating using polarity (article):\", mood_polarity)\n",
        "\n",
        "        # Determine the polarity mood of the summarized article\n",
        "        mood_polarity1 = polarity_mood(summary)\n",
        "        print(\"Mood Rating using polarity (summary):\", mood_polarity1)\n",
        "\n",
        "        # Generate a topic name for the article\n",
        "        topic = topic_name(cleaned_article)\n",
        "        print(\"Topic Name (article):\", topic)\n",
        "\n",
        "        # Generate a topic name for the summarized article\n",
        "        topic1 = topic_name(summary)\n",
        "        print(\"Topic Name (summary):\", topic1)\n",
        "\n",
        "    except Exception as e:\n",
        "        print(\"Error in main function:\", e)\n",
        "\n",
        "# User input\n",
        "user_article = input(\"Enter the article: \")\n",
        "\n",
        "# Run the main function\n",
        "main(user_article)\n"
      ],
      "metadata": {
        "colab": {
          "base_uri": "https://localhost:8080/"
        },
        "id": "umnbF8oqtCih",
        "outputId": "4383cf2d-6d37-4ed7-ae9f-cf19f32dd8ab"
      },
      "execution_count": 17,
      "outputs": [
        {
          "output_type": "stream",
          "name": "stdout",
          "text": [
            "Enter the article: Whether you dip it, drizzle it, or put it on chicken nuggets or french fries, McDonald’s sauce assortment is expanding this fall.  The fast food chain announced Tuesday that it's adding two new limited-edition sauces to its U.S. menu in two weeks.  The new sauces — McDonald’s Sweet & Spicy Jam and McDonald’s MamboSauce — will hit the menu on Oct. 9, according to a news release from the company.  Are whoppers really too small?Burger King must face whopper of a lawsuit alleging burgers are too small, says judge  What are McDonald's two new sauces?  Here's more about the new limited-edition duo: • Sweet & Spicy Jam: The chain describes it as a breakfast-inspired \"jammy red pepper dipping sauce with a tongue-numbing Szechuan peppercorn kick.\" It also includes apple cider vinegar and cayenne pepper. • MamboSauce: This one is described by McD's as \"a tomato-based, sweet, spicy and vinegary sauce, inspired by an Washington, D.C. area sauce staple.\"  The company came up with the new sauces by exploring \"the incredible tastes and flavors found in communities across the country,\" Tariq Hassan, chief marking and customer experience officer at the chain, said in a news release.  The sauces \"live at the intersection of flavor and culture-pulling from decades of rich food history and tradition in local restaurants and home kitchens, and bringing the delicious spice, sweetness and kick of heat we know today’s customers are craving,\" Hassan said.  McD's said it's teaming up with six foodie content creators to review the sauces so they can share pairing suggestion ideas with customers on their respective TikTok channels.  The creators are: @Mr.Eats305, @sharidyonne, @santanakeish, @misslegarda, @natelovlogs and @blackgirlsexploredc.  \"We’re passing the mic to some of our biggest sauce fans — food content creators — to get their authentic reactions from the very first, drizzle, dip and bite,\" Hassan said.  The creators are: @Mr.Eats305, @sharidyonne, @santanakeish, @misslegarda, @natelovlogs, and @blackgirlsexploredc.  Natalie Neysa Alund is a senior correspondent for USA TODAY. Reach her at nalund@usatoday.com and follow her on X, the platform formerly known as Twitter @nataliealund.\n",
            "Cleaned Article: whether you dip it drizzle it or put it on chicken nuggets or french fries mcdonalds sauce assortment is expanding this fall the fast food chain announced tuesday that it is adding two new limitededition sauces to its us menu in two weeks the new sauces mcdonalds sweet spicy jam and mcdonalds mambosauce will hit the menu on oct according to a news release from the company are whoppers really too small?burger king must face whopper of a lawsuit alleging burgers are too small says judge what are mcdonald is two new sauces? here is more about the new limitededition duo sweet spicy jam the chain describes it as a breakfastinspired jammy red pepper dipping sauce with a tonguenumbing szechuan peppercorn kick it also includes apple cider vinegar and cayenne pepper mambosauce this one is described by mcd is as a tomatobased sweet spicy and vinegary sauce inspired by an washington dc area sauce staple the company came up with the new sauces by exploring the incredible tastes and flavors found in communities across the country tariq hassan chief marking and customer experience officer at the chain said in a news release the sauces live at the intersection of flavor and culturepulling from decades of rich food history and tradition in local restaurants and home kitchens and bringing the delicious spice sweetness and kick of heat we know todays customers are craving hassan said mcd is said it is teaming up with six foodie content creators to review the sauces so they can share pairing suggestion ideas with customers on their respective tiktok channels the creators are mreats sharidyonne santanakeish misslegarda natelovlogs and blackgirlsexploredc were passing the mic to some of our biggest sauce fans food content creators to get their authentic reactions from the very first drizzle dip and bite hassan said the creators are mreats sharidyonne santanakeish misslegarda natelovlogs and blackgirlsexploredc natalie neysa alund is a senior correspondent for usa today reach her at nalundusatodaycom and follow her on x the platform formerly known as twitter nataliealund\n",
            "Summary: new limitededition duo sweet spicy jam and mcdonalds mambosauce will hit the menu on oct according to a news release from the fast food chain are whoppers really too small?burger king must face whopper of a lawsuit alleging burgers are too small .\n"
          ]
        },
        {
          "output_type": "stream",
          "name": "stderr",
          "text": [
            "Your max_length is set to 138, but your input_length is only 71. Since this is a summarization task, where outputs shorter than the input are typically wanted, you might consider decreasing max_length manually, e.g. summarizer('...', max_length=35)\n"
          ]
        },
        {
          "output_type": "stream",
          "name": "stdout",
          "text": [
            "Mood Rating (article): Overall sentiment: negative with score 0.747566282749176\n",
            "Mood Rating (summary): Overall sentiment: negative with score 0.8576171398162842\n",
            "Mood Rating using polarity (article): Positive\n",
            "Mood Rating using polarity (summary): Positive\n",
            "Topic Name (article): ('Generated Title:', 'mcdonalds adds two new limitededition sauces to its us')\n",
            "Topic Name (summary): ('Generated Title:', 'Burger King must face whopper of a lawsuit alleging burgers are too small?')\n"
          ]
        }
      ]
    }
  ]
}