{
  "nbformat": 4,
  "nbformat_minor": 0,
  "metadata": {
    "colab": {
      "provenance": []
    },
    "kernelspec": {
      "name": "python3",
      "display_name": "Python 3"
    },
    "language_info": {
      "name": "python"
    }
  },
  "cells": [
    {
      "cell_type": "code",
      "execution_count": null,
      "metadata": {
        "colab": {
          "base_uri": "https://localhost:8080/"
        },
        "id": "SA0K_BiYKXac",
        "outputId": "a80fd3d2-4598-499d-b9fd-0e1a8de6f111"
      },
      "outputs": [
        {
          "output_type": "stream",
          "name": "stdout",
          "text": [
            "Requirement already satisfied: transformers in /usr/local/lib/python3.10/dist-packages (4.38.2)\n",
            "Requirement already satisfied: filelock in /usr/local/lib/python3.10/dist-packages (from transformers) (3.13.3)\n",
            "Requirement already satisfied: huggingface-hub<1.0,>=0.19.3 in /usr/local/lib/python3.10/dist-packages (from transformers) (0.20.3)\n",
            "Requirement already satisfied: numpy>=1.17 in /usr/local/lib/python3.10/dist-packages (from transformers) (1.25.2)\n",
            "Requirement already satisfied: packaging>=20.0 in /usr/local/lib/python3.10/dist-packages (from transformers) (24.0)\n",
            "Requirement already satisfied: pyyaml>=5.1 in /usr/local/lib/python3.10/dist-packages (from transformers) (6.0.1)\n",
            "Requirement already satisfied: regex!=2019.12.17 in /usr/local/lib/python3.10/dist-packages (from transformers) (2023.12.25)\n",
            "Requirement already satisfied: requests in /usr/local/lib/python3.10/dist-packages (from transformers) (2.31.0)\n",
            "Requirement already satisfied: tokenizers<0.19,>=0.14 in /usr/local/lib/python3.10/dist-packages (from transformers) (0.15.2)\n",
            "Requirement already satisfied: safetensors>=0.4.1 in /usr/local/lib/python3.10/dist-packages (from transformers) (0.4.2)\n",
            "Requirement already satisfied: tqdm>=4.27 in /usr/local/lib/python3.10/dist-packages (from transformers) (4.66.2)\n",
            "Requirement already satisfied: fsspec>=2023.5.0 in /usr/local/lib/python3.10/dist-packages (from huggingface-hub<1.0,>=0.19.3->transformers) (2023.6.0)\n",
            "Requirement already satisfied: typing-extensions>=3.7.4.3 in /usr/local/lib/python3.10/dist-packages (from huggingface-hub<1.0,>=0.19.3->transformers) (4.10.0)\n",
            "Requirement already satisfied: charset-normalizer<4,>=2 in /usr/local/lib/python3.10/dist-packages (from requests->transformers) (3.3.2)\n",
            "Requirement already satisfied: idna<4,>=2.5 in /usr/local/lib/python3.10/dist-packages (from requests->transformers) (3.6)\n",
            "Requirement already satisfied: urllib3<3,>=1.21.1 in /usr/local/lib/python3.10/dist-packages (from requests->transformers) (2.0.7)\n",
            "Requirement already satisfied: certifi>=2017.4.17 in /usr/local/lib/python3.10/dist-packages (from requests->transformers) (2024.2.2)\n"
          ]
        }
      ],
      "source": [
        "!pip install transformers"
      ]
    },
    {
      "cell_type": "code",
      "source": [
        "from transformers import pipeline"
      ],
      "metadata": {
        "id": "NiEgZZIWK19O"
      },
      "execution_count": null,
      "outputs": []
    },
    {
      "cell_type": "code",
      "source": [
        "summarizer1 = pipeline(\"summarization\", model=\"Falconsai/text_summarization\")"
      ],
      "metadata": {
        "id": "taC7gAJhLClt"
      },
      "execution_count": null,
      "outputs": []
    },
    {
      "cell_type": "code",
      "source": [
        "sentiment_model_path = \"cardiffnlp/twitter-xlm-roberta-base-sentiment\"\n",
        "sentiment_model = pipeline(\"sentiment-analysis\", model=sentiment_model_path,\n",
        "                          tokenizer=sentiment_model_path)"
      ],
      "metadata": {
        "id": "y_wLD2XVLHBF"
      },
      "execution_count": null,
      "outputs": []
    },
    {
      "cell_type": "code",
      "source": [
        "from transformers import AutoTokenizer, AutoModelForSequenceClassification, pipeline\n",
        "\n",
        "model_name = \"yangheng/deberta-v3-large-absa-v1.1\"\n",
        "tokenizer = AutoTokenizer.from_pretrained(model_name)\n",
        "model = AutoModelForSequenceClassification.from_pretrained(model_name)\n",
        "\n",
        "classifier = pipeline(\"text-classification\", model=model, tokenizer=tokenizer)"
      ],
      "metadata": {
        "id": "mIKtYJR1LLHk"
      },
      "execution_count": null,
      "outputs": []
    },
    {
      "cell_type": "code",
      "source": [
        "from transformers import pipeline\n",
        "\n",
        "# create pipeline for sentiment analysis\n",
        "classification = pipeline('sentiment-analysis')"
      ],
      "metadata": {
        "colab": {
          "base_uri": "https://localhost:8080/"
        },
        "id": "QIySu_B5N4wG",
        "outputId": "e09ad437-083e-4919-a8ac-36c48405e9b6"
      },
      "execution_count": null,
      "outputs": [
        {
          "output_type": "stream",
          "name": "stderr",
          "text": [
            "No model was supplied, defaulted to distilbert/distilbert-base-uncased-finetuned-sst-2-english and revision af0f99b (https://huggingface.co/distilbert/distilbert-base-uncased-finetuned-sst-2-english).\n",
            "Using a pipeline without specifying a model name and revision in production is not recommended.\n"
          ]
        }
      ]
    },
    {
      "cell_type": "code",
      "source": [
        "sentiment_model_path = \"cardiffnlp/twitter-xlm-roberta-base-sentiment\"\n",
        "sentiment_model = pipeline(\"sentiment-analysis\", model=sentiment_model_path,\n",
        "                          tokenizer=sentiment_model_path)"
      ],
      "metadata": {
        "id": "uLO0KYYOO4W9"
      },
      "execution_count": null,
      "outputs": []
    },
    {
      "cell_type": "code",
      "source": [
        "# from transformers import AutoTokenizer, AutoModelForSequenceClassification, pipeline\n",
        "\n",
        "# model_name = \"yangheng/deberta-v3-large-absa-v1.1\"\n",
        "# tokenizer = AutoTokenizer.from_pretrained(model_name)\n",
        "# model = AutoModelForSequenceClassification.from_pretrained(model_name)\n",
        "\n",
        "# classifier = pipeline(\"text-classification\", model=model, tokenizer=tokenizer)"
      ],
      "metadata": {
        "id": "hwkjMYOGhPOV"
      },
      "execution_count": null,
      "outputs": []
    },
    {
      "cell_type": "code",
      "source": [
        "summarizer1 = pipeline(\"summarization\", model=\"Falconsai/text_summarization\")"
      ],
      "metadata": {
        "id": "vQQNmJYRkLaQ"
      },
      "execution_count": null,
      "outputs": []
    },
    {
      "cell_type": "code",
      "source": [
        "topic = pipeline(\"text2text-generation\", model=\"czearing/article-title-generator\")"
      ],
      "metadata": {
        "id": "XDsKpwpwlQeH"
      },
      "execution_count": null,
      "outputs": []
    },
    {
      "cell_type": "code",
      "source": [
        "import nltk\n",
        "\n",
        "nltk.download('punkt')\n",
        "nltk.download('stopwords')\n",
        "nltk.download('vader_lexicon')"
      ],
      "metadata": {
        "colab": {
          "base_uri": "https://localhost:8080/"
        },
        "id": "WHSkQO8IhmO_",
        "outputId": "a4238b5e-6975-4322-c4ff-a203057e223b"
      },
      "execution_count": null,
      "outputs": [
        {
          "output_type": "stream",
          "name": "stderr",
          "text": [
            "[nltk_data] Downloading package punkt to /root/nltk_data...\n",
            "[nltk_data]   Package punkt is already up-to-date!\n",
            "[nltk_data] Downloading package stopwords to /root/nltk_data...\n",
            "[nltk_data]   Package stopwords is already up-to-date!\n",
            "[nltk_data] Downloading package vader_lexicon to /root/nltk_data...\n",
            "[nltk_data]   Package vader_lexicon is already up-to-date!\n"
          ]
        },
        {
          "output_type": "execute_result",
          "data": {
            "text/plain": [
              "True"
            ]
          },
          "metadata": {},
          "execution_count": 13
        }
      ]
    },
    {
      "cell_type": "code",
      "source": [],
      "metadata": {
        "id": "5wndITj5LfvP"
      },
      "execution_count": null,
      "outputs": []
    },
    {
      "cell_type": "code",
      "source": [],
      "metadata": {
        "id": "DBDpPxYXsoDX"
      },
      "execution_count": null,
      "outputs": []
    },
    {
      "cell_type": "code",
      "source": [
        "import pandas as pd\n",
        "import spacy\n",
        "from nltk.sentiment import SentimentIntensityAnalyzer\n",
        "from transformers import pipeline, AutoTokenizer, AutoModelForSequenceClassification\n",
        "import re\n",
        "import nltk\n",
        "\n",
        "# Load Spacy English model\n",
        "nlp = spacy.load(\"en_core_web_sm\")\n",
        "\n",
        "# Initialize VADER sentiment analyzer\n",
        "sid = SentimentIntensityAnalyzer()\n",
        "\n",
        "\n",
        "\n",
        "def clean_text(text):\n",
        "    \"\"\"\n",
        "    Clean the text by removing unnecessary characters and converting to lowercase.\n",
        "    \"\"\"\n",
        "    try:\n",
        "        # Convert text to lowercase\n",
        "        text = text.lower()\n",
        "        # Replace common contractions\n",
        "        text = re.sub(r\"what's\", \"what is \", text)\n",
        "        text = text.replace('(ap)', '')\n",
        "        text = re.sub(r\"\\'s\", \" is \", text)\n",
        "        text = re.sub(r\"\\'ve\", \" have \", text)\n",
        "        text = re.sub(r\"can't\", \"cannot \", text)\n",
        "        text = re.sub(r\"n't\", \" not \", text)\n",
        "        text = re.sub(r\"i'm\", \"i am \", text)\n",
        "        text = re.sub(r\"\\'re\", \" are \", text)\n",
        "        text = re.sub(r\"\\'d\", \" would \", text)\n",
        "        text = re.sub(r\"\\'ll\", \" will \", text)\n",
        "        # Remove non-alphanumeric characters except for '?', '!', and ' '\n",
        "        text = re.sub(r'[^a-zA-Z?! ]+', '', text)\n",
        "        # Remove non-ASCII characters\n",
        "        text = re.sub(r'[^\\x00-\\x7F]+', '', text)\n",
        "        # Remove extra spaces and newlines\n",
        "        text = re.sub('\\s+', ' ', text)\n",
        "        return text\n",
        "    except Exception as e:\n",
        "        print(\"Error cleaning text:\", e)\n",
        "        return \"\"\n",
        "\n",
        "def summarizer_fn(article):\n",
        "    \"\"\"\n",
        "    Summarize the article.\n",
        "    \"\"\"\n",
        "    try:\n",
        "        text = clean_text(article)\n",
        "        summary = summarizer1(text, max_length=138, min_length=40, do_sample=False)\n",
        "        return summary[0]['summary_text']\n",
        "    except Exception as e:\n",
        "        print(\"Error summarizing article:\", e)\n",
        "        return \"\"\n",
        "\n",
        "def mood_rating(article):\n",
        "    \"\"\"\n",
        "    Determine the mood of the article.\n",
        "    \"\"\"\n",
        "    try:\n",
        "        sentiment = sentiment_model(summarizer_fn(article))\n",
        "        sentiment_label = sentiment[0]['label']\n",
        "        sentiment_score = sentiment[0]['score']\n",
        "        return f\"Overall sentiment: {sentiment_label} with score {sentiment_score}\"\n",
        "    except Exception as e:\n",
        "        print(\"Error determining mood:\", e)\n",
        "        return \"\"\n",
        "\n",
        "def polarity_mood(article):\n",
        "    \"\"\"\n",
        "    Determine the mood of the article using VADER.\n",
        "    \"\"\"\n",
        "    try:\n",
        "        score = sid.polarity_scores(article)['compound']\n",
        "        return \"Positive\" if score >= 0.05 else \"Negative\" if score <= -0.05 else \"Neutral\"\n",
        "    except Exception as e:\n",
        "        print(\"Error determining polarity mood:\", e)\n",
        "        return \"\"\n",
        "\n",
        "def topic_name(article):\n",
        "    \"\"\"\n",
        "    Generate a topic name for the article.\n",
        "    \"\"\"\n",
        "    try:\n",
        "        generated_title = topic(article)\n",
        "        return (\"Generated Title:\", generated_title[0]['generated_text'])\n",
        "    except Exception as e:\n",
        "        print(\"Error generating topic name:\", e)\n",
        "        return \"\"\n",
        "\n",
        "def main(article):\n",
        "    \"\"\"\n",
        "    Perform analysis on the article.\n",
        "    \"\"\"\n",
        "    try:\n",
        "        # Clean the article text\n",
        "        cleaned_article = clean_text(article)\n",
        "        print(\"Cleaned Article:\", cleaned_article)\n",
        "\n",
        "        # Summarize the article\n",
        "        summary = summarizer_fn(cleaned_article)\n",
        "        print(\"Summary:\", summary)\n",
        "\n",
        "        # Determine the mood of the article\n",
        "        mood = mood_rating(cleaned_article)\n",
        "        print(\"Mood Rating (article):\", mood)\n",
        "\n",
        "        # Determine the mood of the summarized article\n",
        "        mood1 = mood_rating(summary)\n",
        "        print(\"Mood Rating (summary):\", mood1)\n",
        "\n",
        "        # Determine the polarity mood of the article\n",
        "        mood_polarity = polarity_mood(cleaned_article)\n",
        "        print(\"Mood Rating using polarity (article):\", mood_polarity)\n",
        "\n",
        "        # Determine the polarity mood of the summarized article\n",
        "        mood_polarity1 = polarity_mood(summary)\n",
        "        print(\"Mood Rating using polarity (summary):\", mood_polarity1)\n",
        "\n",
        "        # Generate a topic name for the article\n",
        "        topic = topic_name(cleaned_article)\n",
        "        print(\"Topic Name (article):\", topic)\n",
        "\n",
        "        # Generate a topic name for the summarized article\n",
        "        topic1 = topic_name(summary)\n",
        "        print(\"Topic Name (summary):\", topic1)\n",
        "\n",
        "    except Exception as e:\n",
        "        print(\"Error in main function:\", e)\n",
        "\n",
        "# User input\n",
        "user_article = input(\"Enter the article: \")\n",
        "\n",
        "# Run the main function\n",
        "main(user_article)\n"
      ],
      "metadata": {
        "colab": {
          "base_uri": "https://localhost:8080/"
        },
        "id": "umnbF8oqtCih",
        "outputId": "07fde931-29c8-40af-8e88-1e515dd7bc86"
      },
      "execution_count": null,
      "outputs": [
        {
          "output_type": "stream",
          "name": "stdout",
          "text": [
            "Enter the article: Whether you dip it, drizzle it, or put it on chicken nuggets or french fries, McDonald’s sauce assortment is expanding this fall.  The fast food chain announced Tuesday that it's adding two new limited-edition sauces to its U.S. menu in two weeks.  The new sauces — McDonald’s Sweet & Spicy Jam and McDonald’s MamboSauce — will hit the menu on Oct. 9, according to a news release from the company.  Are whoppers really too small?Burger King must face whopper of a lawsuit alleging burgers are too small, says judge  What are McDonald's two new sauces?  Here's more about the new limited-edition duo: • Sweet & Spicy Jam: The chain describes it as a breakfast-inspired \"jammy red pepper dipping sauce with a tongue-numbing Szechuan peppercorn kick.\" It also includes apple cider vinegar and cayenne pepper. • MamboSauce: This one is described by McD's as \"a tomato-based, sweet, spicy and vinegary sauce, inspired by an Washington, D.C. area sauce staple.\"  The company came up with the new sauces by exploring \"the incredible tastes and flavors found in communities across the country,\" Tariq Hassan, chief marking and customer experience officer at the chain, said in a news release.  The sauces \"live at the intersection of flavor and culture-pulling from decades of rich food history and tradition in local restaurants and home kitchens, and bringing the delicious spice, sweetness and kick of heat we know today’s customers are craving,\" Hassan said.  McD's said it's teaming up with six foodie content creators to review the sauces so they can share pairing suggestion ideas with customers on their respective TikTok channels.  The creators are: @Mr.Eats305, @sharidyonne, @santanakeish, @misslegarda, @natelovlogs and @blackgirlsexploredc.  \"We’re passing the mic to some of our biggest sauce fans — food content creators — to get their authentic reactions from the very first, drizzle, dip and bite,\" Hassan said.  The creators are: @Mr.Eats305, @sharidyonne, @santanakeish, @misslegarda, @natelovlogs, and @blackgirlsexploredc.  Natalie Neysa Alund is a senior correspondent for USA TODAY. Reach her at nalund@usatoday.com and follow her on X, the platform formerly known as Twitter @nataliealund.\n",
            "Cleaned Article: whether you dip it drizzle it or put it on chicken nuggets or french fries mcdonalds sauce assortment is expanding this fall the fast food chain announced tuesday that it is adding two new limitededition sauces to its us menu in two weeks the new sauces mcdonalds sweet spicy jam and mcdonalds mambosauce will hit the menu on oct according to a news release from the company are whoppers really too small?burger king must face whopper of a lawsuit alleging burgers are too small says judge what are mcdonald is two new sauces? here is more about the new limitededition duo sweet spicy jam the chain describes it as a breakfastinspired jammy red pepper dipping sauce with a tonguenumbing szechuan peppercorn kick it also includes apple cider vinegar and cayenne pepper mambosauce this one is described by mcd is as a tomatobased sweet spicy and vinegary sauce inspired by an washington dc area sauce staple the company came up with the new sauces by exploring the incredible tastes and flavors found in communities across the country tariq hassan chief marking and customer experience officer at the chain said in a news release the sauces live at the intersection of flavor and culturepulling from decades of rich food history and tradition in local restaurants and home kitchens and bringing the delicious spice sweetness and kick of heat we know todays customers are craving hassan said mcd is said it is teaming up with six foodie content creators to review the sauces so they can share pairing suggestion ideas with customers on their respective tiktok channels the creators are mreats sharidyonne santanakeish misslegarda natelovlogs and blackgirlsexploredc were passing the mic to some of our biggest sauce fans food content creators to get their authentic reactions from the very first drizzle dip and bite hassan said the creators are mreats sharidyonne santanakeish misslegarda natelovlogs and blackgirlsexploredc natalie neysa alund is a senior correspondent for usa today reach her at nalundusatodaycom and follow her on x the platform formerly known as twitter nataliealund\n",
            "Summary: new limitededition duo sweet spicy jam and mcdonalds mambosauce will hit the menu on oct according to a news release from the fast food chain are whoppers really too small?burger king must face whopper of a lawsuit alleging burgers are too small .\n"
          ]
        },
        {
          "output_type": "stream",
          "name": "stderr",
          "text": [
            "Your max_length is set to 138, but your input_length is only 71. Since this is a summarization task, where outputs shorter than the input are typically wanted, you might consider decreasing max_length manually, e.g. summarizer('...', max_length=35)\n"
          ]
        },
        {
          "output_type": "stream",
          "name": "stdout",
          "text": [
            "Mood Rating (article): Overall sentiment: negative with score 0.747566282749176\n",
            "Mood Rating (summary): Overall sentiment: negative with score 0.8576171398162842\n",
            "Mood Rating using polarity (article): Positive\n",
            "Mood Rating using polarity (summary): Positive\n",
            "Topic Name (article): ('Generated Title:', 'mcdonalds adds two new limitededition sauces to its us')\n",
            "Topic Name (summary): ('Generated Title:', 'Burger King must face whopper of a lawsuit alleging burgers are too small?')\n"
          ]
        }
      ]
    }
  ]
}
